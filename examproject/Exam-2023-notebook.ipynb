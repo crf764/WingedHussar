{
 "cells": [
  {
   "attachments": {},
   "cell_type": "markdown",
   "metadata": {},
   "source": [
    "**Table of contents**<a id='toc0_'></a>    \n",
    "- 1. [Problem 1: Optimal taxation with government consumption](#toc1_)    \n",
    "- 2. [Problem 2: Labor adjustment costs](#toc2_)    \n",
    "- 3. [Problem 3: Global optimizer with refined multi-start](#toc3_)    \n",
    "\n",
    "<!-- vscode-jupyter-toc-config\n",
    "\tnumbering=true\n",
    "\tanchor=true\n",
    "\tflat=false\n",
    "\tminLevel=2\n",
    "\tmaxLevel=6\n",
    "\t/vscode-jupyter-toc-config -->\n",
    "<!-- THIS CELL WILL BE REPLACED ON TOC UPDATE. DO NOT WRITE YOUR TEXT IN THIS CELL -->"
   ]
  },
  {
   "cell_type": "code",
   "execution_count": 262,
   "metadata": {},
   "outputs": [],
   "source": [
    "import sympy as sm\n",
    "import matplotlib.pyplot as plt\n",
    "import numpy as np\n",
    "import scipy.optimize as opt\n",
    "from scipy.optimize import minimize, fixed_point, root\n",
    "%load_ext autoreload\n",
    "%autoreload 2"
   ]
  },
  {
   "attachments": {},
   "cell_type": "markdown",
   "metadata": {},
   "source": [
    "## 1. <a id='toc1_'></a>[Problem 1: Optimal taxation with government consumption](#toc0_)"
   ]
  },
  {
   "attachments": {},
   "cell_type": "markdown",
   "metadata": {},
   "source": [
    "\n",
    "Consider a worker choosing hours of labor, $L\\in[0,24]$, to maximize utility: \n",
    "\n",
    "$$\n",
    "\\begin{align*}\n",
    "V(w,\\tau,G)&=\\max_{L\\in[0,24]}\\ln\\left(C^{\\alpha}G^{1-\\alpha}\\right)-\\nu\\frac{L^{2}}{2}\\\\&\\text{s.t.}\\\\&C=\\kappa+(1-\\tau)wL\n",
    "\\end{align*}\n",
    "$$\n",
    "\n",
    "where \n",
    "\n",
    "* $C$ is *private* consumption with weight $\\alpha\\in(0,1)$.\n",
    "* $\\kappa > 0$ is the *free private* consumption component.\n",
    "* $C = (1-\\tau)wL$ is the *costly private* consumption component.\n",
    "* $w > 0 $ is the real wage.\n",
    "* $\\tau \\in (0,1)$ is the labor-income tax rate.\n",
    "* $G > 0 $ is *government* consumption with weight $1-\\alpha$.\n",
    "* $\\nu > 0$ is the disutility of labor scaling factor"
   ]
  },
  {
   "attachments": {},
   "cell_type": "markdown",
   "metadata": {},
   "source": [
    "\n",
    "The baseline parameters are:\n",
    "\n",
    "$$\n",
    "\\begin{align*}\n",
    "\\alpha &= 0.5\\\\\n",
    "\\kappa &= 1.0\\\\\n",
    "\\nu &= \\frac{1}{2\\cdot16^2} \\\\\n",
    "w &= 1.0 \\\\ \n",
    "\\tau &= 0.30 \\\\\n",
    "\\end{align*}\n",
    "$$"
   ]
  },
  {
   "attachments": {},
   "cell_type": "markdown",
   "metadata": {},
   "source": [
    "**Question 1:** Verify that the optimal labor supply choice is $L^{\\star}(\\tilde{w}) =\\frac{-\\kappa+\\sqrt{\\kappa^{2}+4\\frac{\\alpha}{\\nu}\\tilde{w}^2}}{2\\tilde{w}}$, where $\\tilde{w} = (1-\\tau)w$, for $G\\in\\left\\{1.0 , 2.0\\right\\}$."
   ]
  },
  {
   "attachments": {},
   "cell_type": "markdown",
   "metadata": {},
   "source": [
    "**Question 2:** Illustrate how $L^{\\star}(\\tilde{w})$ depends on $w$."
   ]
  },
  {
   "attachments": {},
   "cell_type": "markdown",
   "metadata": {},
   "source": [
    "#### Question 1"
   ]
  },
  {
   "attachments": {},
   "cell_type": "markdown",
   "metadata": {},
   "source": [
    "Procedure: \n",
    "\n",
    "1. Set parameters\n",
    "2. Define functions\n",
    "3. Sub in constraint (C)\n",
    "4. Calc derivative dV/dL and find FOC\n",
    "5. Evaluate function for G=1 and G=2\n",
    "6. Verify the solution is correct"
   ]
  },
  {
   "cell_type": "code",
   "execution_count": 315,
   "metadata": {},
   "outputs": [
    {
     "name": "stdout",
     "output_type": "stream",
     "text": [
      "Optimized labor hours for G=1 and G=2:\n"
     ]
    },
    {
     "data": {
      "text/latex": [
       "$\\displaystyle \\left\\{ 1 : \\left[ -16.730221655767, \\  15.3016502271956\\right], \\  2 : \\left[ -16.730221655767, \\  15.3016502271956\\right]\\right\\}$"
      ],
      "text/plain": [
       "{1: [-16.730221655767, 15.3016502271956], 2: [-16.730221655767, 15.30165022719\n",
       "56]}"
      ]
     },
     "metadata": {},
     "output_type": "display_data"
    }
   ],
   "source": [
    "sm.init_printing()\n",
    "\n",
    "# Define symbols\n",
    "L, w, tau, G, kappa, alpha, nu, wtilde = sm.symbols('L w tau G kappa alpha nu wtilde')\n",
    "\n",
    "# Set parameters\n",
    "alpha = 0.5\n",
    "kappa = 1.0\n",
    "nu = 1 / (2 * 16**2)\n",
    "w = 1\n",
    "tau = 0.3\n",
    "wtilde = 0.7\n",
    "\n",
    "# utility function\n",
    "C = kappa + (1 - tau) * w * L\n",
    "V = sm.ln(C**alpha * G**(1 - alpha)) - nu * L**2 / 2\n",
    "\n",
    "# Substitute in budget_cons and wtilde\n",
    "\n",
    "budget_constraint = sm.Eq(C, kappa + (1-tau)*w*L)\n",
    "V_cons = sm.ln((kappa + (1-tau)*w*L)**alpha * G**(1 - alpha)) - nu * L**2 / 2\n",
    "\n",
    "\n",
    "# Calculate derivative\n",
    "Vprime = sm.diff(V_cons, L)\n",
    "\n",
    "# Find the maximum\n",
    "sol = sm.solve(Vprime, L)\n",
    "\n",
    "\n",
    "# Evaluate for G=1 and G=2\n",
    "G_values = [1, 2]\n",
    "sol_G = {g: [s.subs(G, g) for s in sol] for g in G_values}\n",
    "\n",
    "print('Optimized labor hours for G=1 and G=2:')\n",
    "display(sol_G)\n",
    "\n",
    "\n"
   ]
  },
  {
   "attachments": {},
   "cell_type": "markdown",
   "metadata": {},
   "source": [
    "We're not interested in negative solutions to labor supply, so we look at the second elements:"
   ]
  },
  {
   "cell_type": "code",
   "execution_count": 212,
   "metadata": {},
   "outputs": [
    {
     "name": "stdout",
     "output_type": "stream",
     "text": [
      "The expressions are equal\n"
     ]
    }
   ],
   "source": [
    "# Verifying solution:\n",
    "\n",
    "\n",
    "Lwtilde = (-kappa + sm.sqrt(kappa**2 + 4 * (alpha / nu) * wtilde**2)) / (2 * wtilde)\n",
    "\n",
    "\n",
    "if sol_G[1][1].equals(Lwtilde):\n",
    "    print(f'The expressions are equal')\n",
    "else:\n",
    "    print(f'The expressions are not equal')\n",
    "\n"
   ]
  },
  {
   "attachments": {},
   "cell_type": "markdown",
   "metadata": {},
   "source": [
    "The expression is verified as correct."
   ]
  },
  {
   "attachments": {},
   "cell_type": "markdown",
   "metadata": {},
   "source": [
    "-------------"
   ]
  },
  {
   "attachments": {},
   "cell_type": "markdown",
   "metadata": {},
   "source": [
    "#### Question 2"
   ]
  },
  {
   "cell_type": "code",
   "execution_count": 238,
   "metadata": {},
   "outputs": [
    {
     "data": {
      "image/png": "[encoded data removed]",
      "text/plain": [
       "<Figure size 640x480 with 1 Axes>"
      ]
     },
     "metadata": {},
     "output_type": "display_data"
    }
   ],
   "source": [
    "\n",
    "# Define symbols\n",
    "L, w, tau, G, kappa, alpha, nu, wtilde = sm.symbols('L w tau G kappa alpha nu wtilde')\n",
    "\n",
    "# Set parameters\n",
    "alpha_val = 0.5\n",
    "kappa_val = 1.0\n",
    "nu_val = 1 / (2 * 16**2)\n",
    "tau_val = 0.3\n",
    "wtilde_val = 0.7\n",
    "\n",
    "# Utility function\n",
    "C = kappa + (1 - tau) * w * L\n",
    "V = sm.ln(C**alpha * G**(1 - alpha)) - nu * L**2 / 2\n",
    "\n",
    "# Substitute in budget constraint\n",
    "budget_constraint = sm.Eq(C, kappa + (1-tau)*w*L)\n",
    "V_cons = sm.ln((kappa + (1-tau)*w*L)**alpha * G**(1 - alpha)) - nu * L**2 / 2\n",
    "\n",
    "# Calculate derivative\n",
    "Vprime = sm.diff(V_cons, L)\n",
    "\n",
    "# Find the maximum\n",
    "sol1 = sm.solve(Vprime, L)\n",
    "\n",
    "# Vary w and evaluate\n",
    "w_values = np.linspace(1, 10, 100)  \n",
    "results = {}\n",
    "\n",
    "\n",
    "results= []\n",
    "for w_val in w_values:\n",
    "    sol_G1 = [s.subs({alpha: alpha_val, kappa: kappa_val, nu: nu_val, w: w_val, tau: tau_val}) for s in sol1]\n",
    "    results.append(sol_G1[0])  # Assuming there's only one solution\n",
    "\n",
    "# Plot the results\n",
    "\n",
    "plt.plot(w_values, results)\n",
    "\n",
    "plt.xlabel('w')\n",
    "plt.ylabel('Optimized labor hours')\n",
    "plt.title('Figure 1 - Optimized labor hours as a function of w')\n",
    "plt.show()"
   ]
  },
  {
   "attachments": {},
   "cell_type": "markdown",
   "metadata": {},
   "source": [
    "Optimal labor supply is a convex and decreasing function of w, implying diminishing utility returns to labor hours"
   ]
  },
  {
   "attachments": {},
   "cell_type": "markdown",
   "metadata": {},
   "source": [
    "--------------"
   ]
  },
  {
   "attachments": {},
   "cell_type": "markdown",
   "metadata": {},
   "source": [
    "\n",
    "We now consider a government, who chooses $\\tau$ and spend all of the taxes on government consumption so:\n",
    "\n",
    "$$\n",
    "G = \\tau w L^{\\star}((1-\\tau)w)\n",
    "$$\n",
    "\n",
    "**Question 3:** Plot the implied $L$, $G$ and worker utility for a grid of $\\tau$-values.\n"
   ]
  },
  {
   "attachments": {},
   "cell_type": "markdown",
   "metadata": {},
   "source": [
    "This looks like a complex problem with an implicitly defined L, so I rethink my approach from symbolic to explicitly numeric.\n",
    "\n",
    "Plan:\n",
    "\n",
    "1. Set parameters\n",
    "2. Define functions but this time not via sympy\n",
    "3. Find a method that can handle functions involving variables implicitly defined (fixed-point iteration)\n",
    "4. Test optimization\n",
    "5. Let $\\tau$ vary\n",
    "6. Plot the results"
   ]
  },
  {
   "cell_type": "code",
   "execution_count": 272,
   "metadata": {},
   "outputs": [
    {
     "name": "stdout",
     "output_type": "stream",
     "text": [
      "The solution to the maximization problem is L* = 15.30166015625003\n"
     ]
    }
   ],
   "source": [
    "# Setting up and testing\n",
    "# Set parameters\n",
    "alpha = 0.5\n",
    "kappa = 1.0\n",
    "nu = 1 / (2 * 16**2)\n",
    "w = 1\n",
    "tau = 0.3\n",
    "\n",
    "def utility(L, L_star, alpha, kappa, nu, w, tau):\n",
    "    '''Worker Utility function \n",
    "    args; L: Labor, L_star: optimal labor, Model parameters'''\n",
    "    C = kappa + (1 - tau) * w * L\n",
    "    G = tau * w * L_star * ((1 - tau) * w)\n",
    "    V = np.log(C**alpha * G**(1 - alpha)) - nu * L**2 / 2\n",
    "    return -V  # Return negative utility for minimization\n",
    "\n",
    "\n",
    "def G_func(L_star):\n",
    "    '''Optimizer used to find optimal Labor'''\n",
    "    L_start = L_star\n",
    "    res = minimize(utility, L_start, args=(L_star, alpha, kappa, nu, w, tau), method='Nelder-Mead')\n",
    "    return res.x[0]\n",
    "\n",
    "# Initial guess for L_star\n",
    "L_star_start = 0.5\n",
    "\n",
    "# Find fixed point func(x0)==x0\n",
    "L_star = fixed_point(G_func, L_star_start, method=\"iteration\")\n",
    "print(f\"The solution to the maximization problem is L* = {L_star}\")"
   ]
  },
  {
   "attachments": {},
   "cell_type": "markdown",
   "metadata": {},
   "source": [
    "The solution is the same as before, which is not catastrophic, but I have no real intuition as to whether it is correct, so I soldier on. "
   ]
  },
  {
   "cell_type": "code",
   "execution_count": 275,
   "metadata": {},
   "outputs": [
    {
     "data": {
      "image/png": "[encoded data removed]",
      "text/plain": [
       "<Figure size 1200x800 with 3 Axes>"
      ]
     },
     "metadata": {},
     "output_type": "display_data"
    }
   ],
   "source": [
    "# Set parameters\n",
    "alpha = 0.5\n",
    "kappa = 1.0\n",
    "nu = 1 / (2 * 16**2)\n",
    "w = 1\n",
    "\n",
    "\n",
    "# New utility function cuz the old had some issues with warnings due to division by zero\n",
    "def utility(L, L_star, alpha, kappa, nu, w, tau):\n",
    "    C = kappa + (1 - tau) * w * L\n",
    "    G = tau * w * L_star * ((1 - tau) * w)\n",
    "    if G <= 0:  # Check if G is less than or equal to zero\n",
    "        return -np.inf  # Return a very large negative utility\n",
    "    else:\n",
    "        V = np.log(np.maximum(G, 1e-10)**(1 - alpha) * C**alpha) - nu * L**2 / 2\n",
    "        return -V\n",
    "\n",
    "# New G-func to accomodate tau\n",
    "def G_func(L_star, tau):\n",
    "    L_start = L_star\n",
    "    res = minimize(utility, L_start, args=(L_star, alpha, kappa, nu, w, tau), method='Nelder-Mead')\n",
    "    return res.x[0]\n",
    "\n",
    "# Generate a grid of tau values\n",
    "tau_values = np.linspace(0, 1, 100)\n",
    "\n",
    "# Initialize arrays to store the results\n",
    "L_star_values = np.empty_like(tau_values)\n",
    "G_values = np.empty_like(tau_values)\n",
    "utility_values = np.empty_like(tau_values)\n",
    "\n",
    "# For each tau, solve for L_star and calculate G and utility\n",
    "for i, tau in enumerate(tau_values):\n",
    "    # Find the optimal labor\n",
    "    L_star = fixed_point(G_func, 0.5, args=(tau,), method=\"iteration\")\n",
    "    \n",
    "    # Compute G\n",
    "    G = tau * w * L_star * ((1 - tau) * w)\n",
    "    \n",
    "    # Compute the utility\n",
    "    U = -utility(L_star, L_star, alpha, kappa, nu, w, tau) \n",
    "    \n",
    "    # Store the results\n",
    "    L_star_values[i] = L_star\n",
    "    G_values[i] = G\n",
    "    utility_values[i] = U\n",
    "\n",
    "# Create the plots\n",
    "plt.figure(figsize=(12, 8))\n",
    "\n",
    "plt.subplot(3, 1, 1)\n",
    "plt.plot(tau_values, L_star_values, label=\"Optimal labor $L^*$\")\n",
    "plt.xlabel(\"$\\\\tau$\")\n",
    "plt.ylabel(\"$L^*$\")\n",
    "plt.legend()\n",
    "\n",
    "plt.subplot(3, 1, 2)\n",
    "plt.plot(tau_values, G_values, label=\"G\")\n",
    "plt.xlabel(\"$\\\\tau$\")\n",
    "plt.ylabel(\"G\")\n",
    "plt.legend()\n",
    "\n",
    "plt.subplot(3, 1, 3)\n",
    "plt.plot(tau_values, utility_values, label=\"Utility\")\n",
    "plt.xlabel(\"$\\\\tau$\")\n",
    "plt.ylabel(\"Utility\")\n",
    "plt.legend()\n",
    "\n",
    "plt.tight_layout()\n",
    "plt.show()"
   ]
  },
  {
   "attachments": {},
   "cell_type": "markdown",
   "metadata": {},
   "source": [
    "These results look in line with what could be expected. Labor is convex with diminishing returns due to disutility to labor. However, the form of the $\\nu$ term makes me think it ought to  be continuously convex. Perhaps it is due to the nature of the fixed-point optimization.\n",
    "\n",
    "Government consumption looks like the Laffer-curve, also as expected. "
   ]
  },
  {
   "attachments": {},
   "cell_type": "markdown",
   "metadata": {},
   "source": [
    "--------------------------------"
   ]
  },
  {
   "attachments": {},
   "cell_type": "markdown",
   "metadata": {},
   "source": [
    "**Question 4:** Find the socially optimal tax rate $\\tau^{\\star}\\in(0,1)$ maximizing worker utility. Illustrate your result."
   ]
  },
  {
   "attachments": {},
   "cell_type": "markdown",
   "metadata": {},
   "source": [
    "1. Set parameters, define func.\n",
    "2. Reuse fixed-point optimizer\n",
    "3. Instead of iterating tau, write function that optimizes tau based on the FP and utility\n",
    "4. Optimize"
   ]
  },
  {
   "cell_type": "code",
   "execution_count": 276,
   "metadata": {},
   "outputs": [
    {
     "name": "stdout",
     "output_type": "stream",
     "text": [
      "The value of tau that maximizes utility is tau* = 0.3378906249999999\n"
     ]
    }
   ],
   "source": [
    "\n",
    "# Set parameters\n",
    "alpha = 0.5\n",
    "kappa = 1.0\n",
    "nu = 1 / (2 * 16**2)\n",
    "w = 1\n",
    "\n",
    "def utility(L, L_star, alpha, kappa, nu, w, tau):\n",
    "    C = kappa + (1 - tau) * w * L\n",
    "    G = tau * w * L_star * ((1 - tau) * w)\n",
    "    if G <= 0:  # Check if G is less than or equal to zero\n",
    "        return -np.inf  # Return a very large negative utility\n",
    "    else:\n",
    "        V = np.log(np.maximum(G, 1e-10)**(1 - alpha) * C**alpha) - nu * L**2 / 2\n",
    "        return -V\n",
    "\n",
    "\n",
    "def G_func(L_star, tau):\n",
    "    L_start = L_star\n",
    "    res = opt.minimize(utility, L_start, args=(L_star, alpha, kappa, nu, w, tau), method='Nelder-Mead')\n",
    "    return res.x[0]\n",
    "\n",
    "# Define function to find the maximum utility for a given tau\n",
    "def utility_max(tau):\n",
    "    # Find the optimal labor\n",
    "    L_star = fixed_point(G_func, 0.5, args=(tau,), method=\"iteration\")\n",
    "    \n",
    "    # Compute the utility\n",
    "    U = -utility(L_star, L_star, alpha, kappa, nu, w, tau)  \n",
    "    \n",
    "    return -U  \n",
    "\n",
    "# Initial guess for tau\n",
    "tau_start = 0.5\n",
    "\n",
    "# Find the tau that maximizes utility\n",
    "res = opt.minimize(utility_max, tau_start, bounds=[(0, 1)], method='Nelder-Mead')\n",
    "tau_star = res.x[0]\n",
    "\n",
    "print(f\"The value of tau that maximizes utility is tau* = {tau_star}\")"
   ]
  },
  {
   "attachments": {},
   "cell_type": "markdown",
   "metadata": {},
   "source": [
    "---------------"
   ]
  },
  {
   "attachments": {},
   "cell_type": "markdown",
   "metadata": {},
   "source": [
    "A more general preference formulation for the worker is:\n",
    "\n",
    "$$\n",
    "\\begin{align*}\n",
    "\\mathcal{V}(w,\\tau,G)&=\\max_{L\\in[0,24]}\\frac{\\left[ \\left( \\alpha C^{\\frac{\\sigma-1}{\\sigma}}+(1-\\alpha) G^{\\frac{\\sigma-1}{\\sigma}} \\right)^{\\frac{\\sigma}{\\sigma-1} }\\right]^{1-\\rho}-1}{1-\\rho}- \\nu\\frac{L^{1+\\varepsilon}}{1+\\varepsilon},\\,\\,\\,\\varepsilon,\\rho,\\sigma>0,\\,\\,\\,\\rho,\\sigma\\neq1\\\\&\\text{s.t.}\\\\&C=\\kappa+(1-\\tau)wL\n",
    "\\end{align*}    \n",
    "$$\n",
    "\n",
    "Optimal labor supply is now $L^{\\star}(\\tilde{w},G)$."
   ]
  },
  {
   "attachments": {},
   "cell_type": "markdown",
   "metadata": {},
   "source": [
    "**Question 5:** Find the $G$ that solves $G = \\tau w L^{\\star}((1-\\tau)w,G)$ using the $\\tau$ found in question 4.\n",
    "\n",
    "*Hint: First write code that solves the worker problem for given values of $G$ and $\\tau$. Then find the correct G based on this.*"
   ]
  },
  {
   "attachments": {},
   "cell_type": "markdown",
   "metadata": {},
   "source": [
    "Plan: \n",
    "\n",
    "1. Set Parameters\n",
    "2. Define new utility function\n",
    "3. Solve max. problem dutility/dL for given values of G and tau\n",
    "4. Define function that solves for G with L_star as input\n",
    "5. Solve it"
   ]
  },
  {
   "cell_type": "code",
   "execution_count": 261,
   "metadata": {},
   "outputs": [],
   "source": [
    "# FIRST SET\n",
    "# Parameters\n",
    "alpha = 0.5\n",
    "kappa = 1.0\n",
    "nu = 1 / (2 * 16**2)\n",
    "w = 1\n",
    "rho = 1.001\n",
    "sigma = 1.001\n",
    "epsilon = 1.0\n",
    "\n",
    "# Utility function\n",
    "def utility(L, tau, G, w, alpha, kappa, nu, rho, sigma, epsilon):\n",
    "    C = kappa + (1 - tau) * w * L\n",
    "    term1 = alpha * (C**((sigma - 1) / sigma))\n",
    "    term2 = (1 - alpha) * (G**((sigma - 1) / sigma))\n",
    "    utility = ((term1 + term2)**(sigma / (sigma - 1)))**(1 - rho) / (1 - rho) - nu * L**(1 + epsilon) / (1 + epsilon)\n",
    "    return -utility  \n",
    "\n",
    "# Solving the maximization problem for given tau and G\n",
    "def solve_worker(tau, G):\n",
    "    res = minimize(utility, 0.5, args=(tau, G, w, alpha, kappa, nu, rho, sigma, epsilon), bounds=[(0, 24)])\n",
    "    L_star = res.x[0]\n",
    "    return L_star"
   ]
  },
  {
   "cell_type": "code",
   "execution_count": 264,
   "metadata": {},
   "outputs": [
    {
     "name": "stdout",
     "output_type": "stream",
     "text": [
      "The value of G that solves the first set equilibrium condition is G* = 0.5000105005545925\n"
     ]
    }
   ],
   "source": [
    "# Equilibrium condition\n",
    "def equilibrium(G, tau):\n",
    "    L_star = solve_worker(tau, G)\n",
    "    return G - tau * w * L_star * ((1 - tau) * w)\n",
    "\n",
    "# Finding the equilibrium G\n",
    "res = root(equilibrium, 0.5, args=(tau_star))  # We start with an initial guess of 0.5 for G\n",
    "G_star = res.x[0]\n",
    "\n",
    "print(f\"The value of G that solves the first set equilibrium condition is G* = {G_star}\")"
   ]
  },
  {
   "cell_type": "code",
   "execution_count": 265,
   "metadata": {},
   "outputs": [],
   "source": [
    "# SECOND SET\n",
    "\n",
    "# Parameters\n",
    "alpha = 0.5\n",
    "kappa = 1.0\n",
    "nu = 1 / (2 * 16**2)\n",
    "w = 1\n",
    "rho = 1.5\n",
    "sigma = 1.5\n",
    "epsilon = 1.0\n",
    "\n",
    "# Utility function\n",
    "def utility(L, tau, G, w, alpha, kappa, nu, rho, sigma, epsilon):\n",
    "    C = kappa + (1 - tau) * w * L\n",
    "    term1 = alpha * (C**((sigma - 1) / sigma))\n",
    "    term2 = (1 - alpha) * (G**((sigma - 1) / sigma))\n",
    "    utility = ((term1 + term2)**(sigma / (sigma - 1)))**(1 - rho) / (1 - rho) - nu * L**(1 + epsilon) / (1 + epsilon)\n",
    "    return -utility  \n",
    "\n",
    "# Solving the maximization problem for given tau and G\n",
    "def solve_worker(tau, G):\n",
    "    res = minimize(utility, 0.5, args=(tau, G, w, alpha, kappa, nu, rho, sigma, epsilon), bounds=[(0, 24)])\n",
    "    L_star = res.x[0]\n",
    "    return L_star"
   ]
  },
  {
   "cell_type": "code",
   "execution_count": 266,
   "metadata": {},
   "outputs": [
    {
     "name": "stdout",
     "output_type": "stream",
     "text": [
      "The value of G that solves the second set equilibrium condition is G* = 2.4808216248742627\n"
     ]
    }
   ],
   "source": [
    "# Equilibrium condition\n",
    "def equilibrium(G, tau):\n",
    "    L_star = solve_worker(tau, G)\n",
    "    return G - tau * w * L_star * ((1 - tau) * w)\n",
    "\n",
    "# Finding the equilibrium G\n",
    "res = root(equilibrium, 0.5, args=(tau_star))  # We start with an initial guess of 0.5 for G\n",
    "G_star = res.x[0]\n",
    "\n",
    "print(f\"The value of G that solves the second set equilibrium condition is G* = {G_star}\")"
   ]
  },
  {
   "attachments": {},
   "cell_type": "markdown",
   "metadata": {},
   "source": [
    "--------------"
   ]
  },
  {
   "attachments": {},
   "cell_type": "markdown",
   "metadata": {},
   "source": [
    "**Question 6:** Find the socially optimal tax rate, $\\tau^{\\star}$, maximizing worker utility, while keeping $G = \\tau w L^{\\star}((1-\\tau)w,G)$."
   ]
  },
  {
   "cell_type": "code",
   "execution_count": 285,
   "metadata": {},
   "outputs": [
    {
     "name": "stdout",
     "output_type": "stream",
     "text": [
      "The socially optimal tax rate that maximizes worker utility is tau* = 0.049999999953433474\n",
      "The maximum utility is 999.0101367862959\n",
      "The corresponding G* = 0.7355552726905789\n",
      "The corresponding L* = 15.48506156438835\n"
     ]
    }
   ],
   "source": [
    "# Set one Parameters\n",
    "alpha = 0.5\n",
    "kappa = 1.0\n",
    "nu = 1 / (2 * 16**2)\n",
    "w = 1\n",
    "rho = 1.001\n",
    "sigma = 1.001\n",
    "epsilon = 1.0\n",
    "\n",
    "def utility(L, tau, G, w, alpha, kappa, nu, rho, sigma, epsilon):\n",
    "   \n",
    "    if G <= 0 or sigma <= 1:  # Check if G is less than or equal to zero or sigma is less than or equal to 1\n",
    "        \n",
    "        return np.inf  # Return a yuge utility (because we're minimizing)\n",
    "    else:\n",
    "        C = kappa + (1 - tau) * w * L\n",
    "        term1 = alpha * (C**((sigma - 1) / sigma))\n",
    "        term2 = (1 - alpha) * (G**((sigma - 1) / sigma))\n",
    "        utility = ((term1 + term2)**(sigma / (sigma - 1)))**(1 - rho) / (1 - rho) - nu * L**(1 + epsilon) / (1 + epsilon)\n",
    "        return -utility  \n",
    "\n",
    "# Solving the worker's problem for given tau and G\n",
    "def solve_worker(tau, G):\n",
    "    res = minimize(utility, 0.5, args=(tau, G, w, alpha, kappa, nu, rho, sigma, epsilon), bounds=[(0, 24)])\n",
    "    L_star = res.x[0]\n",
    "    return L_star\n",
    "\n",
    "# Equilibrium condition\n",
    "def equilibrium(G, tau):\n",
    "    L_star = solve_worker(tau, G)\n",
    "    return G - tau * w * L_star * ((1 - tau) * w)\n",
    "\n",
    "def utility_max(tau):\n",
    "    # Find the equilibrium G for this tau\n",
    "    G_res = root(equilibrium, 0.5, args=(tau))\n",
    "    G_star = G_res.x[0]\n",
    "    \n",
    "    # Find the optimal labor\n",
    "    L_star = solve_worker(tau, G_star)\n",
    "    \n",
    "    # Compute the utility\n",
    "    U = -utility(L_star, tau, G_star, w, alpha, kappa, nu, rho, sigma, epsilon)  \n",
    "    \n",
    "    return -U, G_star, L_star  # Return negative utility for minimization, G_star and L_star\n",
    "\n",
    "# Find the tau that maximizes utility\n",
    "res = minimize(lambda tau: utility_max(tau)[0], tau_start, bounds=[(0, 1)], method='Nelder-Mead')\n",
    "tau_star_social = res.x[0]\n",
    "max_utility, G_star, L_star = utility_max(tau_star_social)\n",
    "\n",
    "print(f\"The socially optimal tax rate that maximizes worker utility is tau* = {tau_star_social}\")\n",
    "print(f\"The maximum utility is {max_utility}\")\n",
    "print(f\"The corresponding G* = {G_star}\")\n",
    "print(f\"The corresponding L* = {L_star}\")"
   ]
  },
  {
   "cell_type": "code",
   "execution_count": 286,
   "metadata": {},
   "outputs": [
    {
     "name": "stdout",
     "output_type": "stream",
     "text": [
      "The socially optimal tax rate that maximizes worker utility is tau* = 0.2765624999999998\n",
      "The maximum utility is 1.0255326783528171\n",
      "The corresponding G* = 2.2492757535236385\n",
      "The corresponding L* = 11.242124683538076\n"
     ]
    }
   ],
   "source": [
    "# Set two Parameters\n",
    "alpha = 0.5\n",
    "kappa = 1.0\n",
    "nu = 1 / (2 * 16**2)\n",
    "w = 1\n",
    "rho = 1.5\n",
    "sigma = 1.5\n",
    "epsilon = 1.0\n",
    "\n",
    "def utility(L, tau, G, w, alpha, kappa, nu, rho, sigma, epsilon):\n",
    "   \n",
    "    if G <= 0 or sigma <= 1:  # Check if G is less than or equal to zero or sigma is less than or equal to 1\n",
    "        \n",
    "        return np.inf  # Return a yuge utility (because we're minimizing)\n",
    "    else:\n",
    "        C = kappa + (1 - tau) * w * L\n",
    "        term1 = alpha * (C**((sigma - 1) / sigma))\n",
    "        term2 = (1 - alpha) * (G**((sigma - 1) / sigma))\n",
    "        utility = ((term1 + term2)**(sigma / (sigma - 1)))**(1 - rho) / (1 - rho) - nu * L**(1 + epsilon) / (1 + epsilon)\n",
    "        return -utility  \n",
    "\n",
    "# Solving the worker's problem for given tau and G\n",
    "def solve_worker(tau, G):\n",
    "    res = minimize(utility, 0.5, args=(tau, G, w, alpha, kappa, nu, rho, sigma, epsilon), bounds=[(0, 24)])\n",
    "    L_star = res.x[0]\n",
    "    return L_star\n",
    "\n",
    "# Equilibrium condition\n",
    "def equilibrium(G, tau):\n",
    "    L_star = solve_worker(tau, G)\n",
    "    return G - tau * w * L_star * ((1 - tau) * w)\n",
    "\n",
    "def utility_max(tau):\n",
    "    # Find the equilibrium G for this tau\n",
    "    G_res = root(equilibrium, 0.5, args=(tau))\n",
    "    G_star = G_res.x[0]\n",
    "    \n",
    "    # Find the optimal labor\n",
    "    L_star = solve_worker(tau, G_star)\n",
    "    \n",
    "    # Compute the utility\n",
    "    U = -utility(L_star, tau, G_star, w, alpha, kappa, nu, rho, sigma, epsilon) \n",
    "    \n",
    "    return -U, G_star, L_star  # Return negative utility for minimization, G_star and L_star\n",
    "\n",
    "# Find the tau that maximizes utility\n",
    "res = minimize(lambda tau: utility_max(tau)[0], tau_start, bounds=[(0, 1)], method='Nelder-Mead')\n",
    "tau_star_social = res.x[0]\n",
    "max_utility, G_star, L_star = utility_max(tau_star_social)\n",
    "\n",
    "print(f\"The socially optimal tax rate that maximizes worker utility is tau* = {tau_star_social}\")\n",
    "print(f\"The maximum utility is {max_utility}\")\n",
    "print(f\"The corresponding G* = {G_star}\")\n",
    "print(f\"The corresponding L* = {L_star}\")"
   ]
  },
  {
   "attachments": {},
   "cell_type": "markdown",
   "metadata": {},
   "source": [
    "## 2. <a id='toc2_'></a>[Problem 2: Labor adjustment costs](#toc0_)"
   ]
  },
  {
   "attachments": {},
   "cell_type": "markdown",
   "metadata": {},
   "source": [
    "You own a hair salon. You employ hairdressers, $\\ell_t$, to produce haircuts, $y_t = \\ell_t$.\n",
    "\n",
    "The wage for each haridresser is $w$.\n",
    "\n",
    "The demand for haircuts implies that the price of haircuts you can charge is $p_t = \\kappa_t y_t^{-\\eta}$, where $\\kappa_t$ is a demand-shock and $\\eta \\in (0,1)$ measures the elasticity of demand.\n",
    "\n",
    "Profits are:\n",
    "\n",
    "$$\n",
    "\\Pi_t = p_t y_t - w \\ell_t = \\kappa_t \\ell_t^{1-\\eta} - w \\ell_t\n",
    "$$"
   ]
  },
  {
   "attachments": {},
   "cell_type": "markdown",
   "metadata": {},
   "source": [
    "Baseline parameters are:\n",
    "- $\\eta = 0.5$\n",
    "- $w = 1.0$"
   ]
  },
  {
   "attachments": {},
   "cell_type": "markdown",
   "metadata": {},
   "source": [
    "**Question 1:** Verify numerically that $\\ell_{t}=\\left(\\frac{(1-\\eta)\\kappa_{t}}{w}\\right)^{\\frac{1}{\\eta}}$ maximises profits, for $\\kappa\\in\\left\\{1.0 , 2.0\\right\\}$."
   ]
  },
  {
   "cell_type": "code",
   "execution_count": 334,
   "metadata": {},
   "outputs": [
    {
     "name": "stdout",
     "output_type": "stream",
     "text": [
      "The optimal number of hairdressers for demand shock 1 is 0.24999999999999933\n",
      "The optimal number of hairdressers for demand shock 2 is 1.0\n"
     ]
    }
   ],
   "source": [
    "# Set Parameters\n",
    "eta = 0.5\n",
    "w = 1.0\n",
    "kappa_values = [1,2]\n",
    "\n",
    "def neg_profit(l, kappa):\n",
    "    # Define the negative profit function\n",
    "    return -(kappa * l**0.5 - w * l)\n",
    "\n",
    "# Dictionary to store solutions\n",
    "sol_l = {}\n",
    "\n",
    "# Iterating over kappa_values, calculate the optimal number of hairdressers and store in the dictionary\n",
    "for kappa in kappa_values:\n",
    "    result = minimize(neg_profit, x0=[1], args=(kappa,), bounds=[(0, None)], method='Nelder-Mead')\n",
    "\n",
    "    # Store optimal l in dictionary\n",
    "    sol_l[kappa] = result.x[0]\n",
    "\n",
    "# Print the solutions\n",
    "for kappa, opt_l in sol_l.items():\n",
    "    print(\"The optimal number of hairdressers for demand shock\", kappa, \"is\", opt_l)"
   ]
  },
  {
   "cell_type": "code",
   "execution_count": 339,
   "metadata": {},
   "outputs": [
    {
     "name": "stdout",
     "output_type": "stream",
     "text": [
      "The expressions are equal\n",
      "The expressions are equal\n"
     ]
    }
   ],
   "source": [
    "# Verifying the results to within a certain tolerance, cuz it certainly looks like the answer is 0.25\n",
    "\n",
    "epsilon = 1e-7\n",
    "\n",
    "l_t_1 = (((1-eta)*1)/w)**(1/eta) # The expression to check, with kappa=1 \n",
    "\n",
    "if abs(sol_l[1]-l_t_1) < epsilon: # The optimized l, kappa = 1 \n",
    "    print(f'The expressions are equal')\n",
    "else:\n",
    "    print(f'The expressions are not equal')\n",
    "\n",
    "l_t_2 = (((1-eta)*2)/w)**(1/eta) # Expression to check, kappa = 2\n",
    "\n",
    "if abs(sol_l[2]-l_t_2) < epsilon:\n",
    "    print(f'The expressions are equal')\n",
    "else:\n",
    "    print(f'The expressions are not equal')"
   ]
  },
  {
   "attachments": {},
   "cell_type": "markdown",
   "metadata": {},
   "source": [
    "The expression has been verified numerically."
   ]
  },
  {
   "attachments": {},
   "cell_type": "markdown",
   "metadata": {},
   "source": [
    "--------------"
   ]
  },
  {
   "attachments": {},
   "cell_type": "markdown",
   "metadata": {},
   "source": [
    "We now consider a *dynamic* version of the model.\n",
    "\n",
    "* The demand-shock is a so-called AR(1) in logs, \n",
    "\n",
    "$$\n",
    "\\log \\kappa_{t} = \\rho \\log \\kappa_{t-1} + \\epsilon_{t},\\,\\,\\, \\epsilon_{t+1} \\sim \\mathcal{N}(-0.5\\sigma_{\\epsilon}^2,\\sigma_{\\epsilon})\n",
    "$$\n",
    "\n",
    "* Any hiring or firing implies a fixed adjustment cost, $\\iota > 0 $.\n",
    "* Future profits are discounted with a monthly factor of $R \\in (0,1)$.\n",
    "\n",
    "The initial demand shock is $\\kappa_{-1} = 1$ and the planning horizon is 10 years, i.e. 120 months so $t \\in \\{0,1,2,\\dots,119\\}$. Initially you don't have any employees, $\\ell_{-1}=0$"
   ]
  },
  {
   "attachments": {},
   "cell_type": "markdown",
   "metadata": {},
   "source": [
    "\n",
    "The *ex post* value of the salon is *conditional* on the shock series is:\n",
    "\n",
    "$$\n",
    "h(\\epsilon_0,\\epsilon_1,\\dots,\\epsilon_{119}) = \\left[\\sum_{t=0}^{119}R^{-t}\\left[\\kappa_{t}\\ell_{t}^{1-\\eta}-w\\ell_{t}-\\boldsymbol{1}_{\\ell_{t}\\neq\\ell_{t-1}}\\iota\\right]\\right]\n",
    "$$\n",
    "\n",
    "The *ex ante* expected value of the salon can be approximated by\n",
    "\n",
    "$$\n",
    "H = \\mathbb{E}[h(\\epsilon_0,\\epsilon_1,\\dots,\\epsilon_{119})] \\approx \\frac{1}{K}\\sum_{k=0}^{K} h(\\epsilon_0^k,\\epsilon_1^k,\\dots,\\epsilon_{119}^k)\n",
    "$$\n",
    "\n",
    "where each $k\\in\\{0,1,\\dots,K-1\\}$ is a random shock series. Maximizing profitability means maximizing $H$.\n"
   ]
  },
  {
   "attachments": {},
   "cell_type": "markdown",
   "metadata": {},
   "source": [
    "Baseline parameters are: \n",
    "\n",
    "- $\\rho = 0.90$\n",
    "- $\\iota = 0.01$\n",
    "- $\\sigma_{\\epsilon} = 0.10$\n",
    "- $R = \\left(1+0.01\\right)^{1/12}$"
   ]
  },
  {
   "attachments": {},
   "cell_type": "markdown",
   "metadata": {},
   "source": [
    "**Question 2:** Calculate $H$ if the policy  $\\ell_{t}=\\left(\\frac{(1-\\eta)\\kappa_{t}}{w}\\right)^{\\frac{1}{\\eta}}$ from question 1 is followed. Choose $K$ so the approximation is good enough to not affect your results substantially."
   ]
  },
  {
   "cell_type": "code",
   "execution_count": 340,
   "metadata": {},
   "outputs": [
    {
     "name": "stdout",
     "output_type": "stream",
     "text": [
      "The expected value of the salon, H, is 29.153475743729935.\n"
     ]
    }
   ],
   "source": [
    "import numpy as np\n",
    "from scipy.stats import norm\n",
    "\n",
    "# Set Parameters\n",
    "rho = 0.90\n",
    "iota = 0.01\n",
    "sigma_epsilon = 0.10\n",
    "R = (1+0.01)**(1/12)\n",
    "eta = 0.5\n",
    "w = 1.0\n",
    "K = 10000  # Number of random shock series\n",
    "T = 120  # Number of months\n",
    "\n",
    "# Function to calculate profits given kappa and l\n",
    "def calculate_profits(kappa, l, prev_l):\n",
    "    return R * (kappa * l**(1 - eta) - w * l - iota * (l != prev_l))\n",
    "\n",
    "# Function to calculate l given kappa\n",
    "def calculate_l(kappa):\n",
    "    return ((1 - eta) * kappa / w) ** (1 / eta)\n",
    "\n",
    "# Initialize profits\n",
    "profits = np.zeros(K)\n",
    "\n",
    "# Loop over K random shock series\n",
    "for k in range(K):\n",
    "    # Initialize kappa and l\n",
    "    kappa = np.ones(T + 1)  # Plus 1 because kappa starts from t = -1\n",
    "    l = np.zeros(T + 1)  # Plus 1 because l starts from t = -1\n",
    "\n",
    "    # Generate random shock series\n",
    "    epsilon = norm.rvs(loc=-0.5 * sigma_epsilon**2, scale=sigma_epsilon, size=T)\n",
    "\n",
    "    # Update kappa and l for each month\n",
    "    for t in range(T):\n",
    "        kappa[t + 1] = np.exp(rho * np.log(kappa[t]) + epsilon[t])\n",
    "        l[t + 1] = calculate_l(kappa[t + 1])\n",
    "\n",
    "    # Calculate profits for this shock series and add to total profits\n",
    "    for t in range(T):\n",
    "        profits[k] += calculate_profits(kappa[t + 1], l[t + 1], l[t])\n",
    "\n",
    "# Calculate and print H\n",
    "H = np.mean(profits)\n",
    "print(f'The expected value of the salon, H, is {H}.')"
   ]
  },
  {
   "attachments": {},
   "cell_type": "markdown",
   "metadata": {},
   "source": [
    "Next, we consider policies on the form:\n",
    "\n",
    "$$\n",
    "\n",
    "\\ell_{t}=\\begin{cases}\n",
    "\\ell_t^{\\ast}  & \\text{if }\\left|\\ell_{t-1}-\\ell_t^{\\ast} \\right|>\\Delta\\\\\n",
    "\\ell_{t-1} & \\text{else }\n",
    "\\end{cases}\n",
    "\\\\\n",
    "\\text{where}\\,\\,\\ell_t^{\\ast} = \\left(\\frac{(1-\\eta)\\kappa_{t}}{w}\\right)^{\\frac{1}{\\eta}} \\\\\n",
    "\n",
    "$$\n",
    "With $\\Delta \\geq 0$ and $\\Delta = 0$ being the previous policy.\n"
   ]
  },
  {
   "attachments": {},
   "cell_type": "markdown",
   "metadata": {},
   "source": [
    "\n",
    "**Question 3:** Calculate $H$ if the policy above was followed with $\\Delta = 0.05$. Does it improve profitability?"
   ]
  },
  {
   "cell_type": "code",
   "execution_count": 10,
   "metadata": {},
   "outputs": [],
   "source": [
    "# write your code here"
   ]
  },
  {
   "attachments": {},
   "cell_type": "markdown",
   "metadata": {},
   "source": [
    "**Question 4:** Find the optimal $\\Delta$ maximizing $H$. Illustrate your result."
   ]
  },
  {
   "cell_type": "code",
   "execution_count": 11,
   "metadata": {},
   "outputs": [],
   "source": [
    "# write your code here"
   ]
  },
  {
   "attachments": {},
   "cell_type": "markdown",
   "metadata": {},
   "source": [
    "\n",
    "**Question 5:** Suggest an alternative policy you believe might improve profitability. Implement and test your policy.\n",
    "\n"
   ]
  },
  {
   "cell_type": "code",
   "execution_count": 12,
   "metadata": {},
   "outputs": [],
   "source": [
    "# write your code here"
   ]
  },
  {
   "attachments": {},
   "cell_type": "markdown",
   "metadata": {},
   "source": [
    "## 3. <a id='toc3_'></a>[Problem 3: Global optimizer with refined multi-start](#toc0_)"
   ]
  },
  {
   "attachments": {},
   "cell_type": "markdown",
   "metadata": {},
   "source": [
    "We consider the Griewank function:\n",
    "\n",
    "$$ f(\\boldsymbol{x}) = \\sum^n_{i=1} \\frac{x^2_i}{4000}-\\prod^n_{i=1}\\cos\\left(\\frac{x_i}{\\sqrt{i}}\\right)+1$$\n",
    "\n",
    "The **global minimum** of this function is $f(0,0) = 0$ (remember: $\\cos(0)=1$).<br>\n",
    "But the function also have a lot of **local minima**."
   ]
  },
  {
   "cell_type": "code",
   "execution_count": 292,
   "metadata": {},
   "outputs": [],
   "source": [
    "def griewank(x):\n",
    "    return griewank_(x[0],x[1])\n",
    "    \n",
    "def griewank_(x1,x2):\n",
    "    A = x1**2/4000 + x2**2/4000\n",
    "    B = np.cos(x1/np.sqrt(1))*np.cos(x2/np.sqrt(2))\n",
    "    return A-B+1"
   ]
  },
  {
   "attachments": {},
   "cell_type": "markdown",
   "metadata": {},
   "source": [
    "A **refined global optimizer with multi-start** is:\n",
    "\n",
    "1. Choose *bounds* for $\\mathbf{x}$ and *tolerance* $\\tau > 0$.\n",
    "2. Choose number of *warm-up iterations*, $\\underline{K} > 0$ and *maximum number of iterations*, $K > \\underline{K}$.\n",
    "3. In each iteration for $k \\in \\{0,1,\\dots,K-1\\}$:\n",
    "\n",
    "    A. Draw random $\\mathbf{x}^k$ uniformly within chosen bounds.\n",
    "\n",
    "    B. If $k < \\underline{K}$ go to step E.\n",
    "\n",
    "    C. Calculate $\\chi^k = 0.50\\cdot\\frac{2}{1+\\exp((k-\\underline{K})/100)}$  \n",
    "\n",
    "    D. Set $\\mathbf{x}^{k0} = \\chi^k \\mathbf{x}^k + (1-\\chi^k)\\mathbf{x}^{\\ast} $\n",
    "\n",
    "    E. Run optimizer with $\\mathbf{x}^{k0}$ as initial guess and $\\mathbf{x}^{k\\ast}$ as result.\n",
    "\n",
    "    F. Set $\\mathbf{x}^{\\ast} = \\mathbf{x}^{k\\ast}$ if $k = 0$ or $f(\\mathbf{x}^{k\\ast}) < f(\\mathbf{x}^{\\ast})$\n",
    "\n",
    "    G. If $f(\\mathbf{x}^{\\ast}) < \\tau$ go to step 4.\n",
    "\n",
    "4. Return the result $\\mathbf{x}^{\\ast}$."
   ]
  },
  {
   "attachments": {},
   "cell_type": "markdown",
   "metadata": {},
   "source": [
    "As settings we choose:\n",
    "\n",
    "* $x_1,x_2 \\in  [-600,600]$\n",
    "* $\\tau = 10^{-8}$\n",
    "* $\\underline{K}=10$\n",
    "* $K=1000$\n",
    "\n",
    "The optimizer in Step 3.E is `BFGS` with a tolerance of $\\tau$."
   ]
  },
  {
   "attachments": {},
   "cell_type": "markdown",
   "metadata": {},
   "source": [
    "**Question 1:** Implement the refined global optimizer with multi-start. Illustrate how the effective initial guesses $\\mathbf{x}^{k0}$ vary with the iteration counter $k$."
   ]
  },
  {
   "cell_type": "code",
   "execution_count": 299,
   "metadata": {},
   "outputs": [
    {
     "name": "stdout",
     "output_type": "stream",
     "text": [
      "Iteration 0: Initial guess is [405.21581986 499.15996066] with function value 103.98680450300888\n",
      "Iteration 1: Initial guess is [-467.96094783  347.4655321 ] with function value 84.01112521232224\n",
      "Iteration 2: Initial guess is [591.86983056 494.19568617] with function value 148.83077724412402\n",
      "Iteration 3: Initial guess is [-324.53120647 -566.23835574] with function value 105.67514137851178\n",
      "Iteration 4: Initial guess is [-252.65433473  395.14537648] with function value 55.22943654930241\n",
      "Iteration 5: Initial guess is [ -54.78295971 -370.04475085] with function value 34.67440438631283\n",
      "Iteration 6: Initial guess is [ 118.3076318  -237.03351951] with function value 17.22413884420249\n",
      "Iteration 7: Initial guess is [114.2925112  302.72023051] with function value 25.991757568623516\n",
      "Iteration 8: Initial guess is [  68.07413168 -326.25363666] with function value 15.58761832219937\n",
      "Iteration 9: Initial guess is [-384.68365453  469.80998458] with function value 92.09676029820574\n",
      "Iteration 10: Initial guess is [-219.84288861  -89.84502253] with function value 14.056153421039777\n",
      "Iteration 11: Initial guess is [39.9916642 90.1299437] with function value 2.327076122058405\n",
      "Iteration 14: Initial guess is [-46.62915901  -9.10883671] with function value 0.5030884059484403\n",
      "Iteration 64: Initial guess is [-4.47513116 34.96897173] with function value 0.32537648295095356\n",
      "Iteration 157: Initial guess is [28.26970932 -2.1196155 ] with function value 0.20468947948874006\n",
      "Iteration 184: Initial guess is [-22.71728116   7.19605811] with function value 0.12577210421580298\n",
      "Iteration 193: Initial guess is [ 0.49431397 11.91481781] with function value 0.019719489248184785\n",
      "Iteration 313: Initial guess is [-0.32090576 -1.89031726] with function value 0.0\n"
     ]
    },
    {
     "data": {
      "image/png": "[encoded data removed]",
      "text/plain": [
       "<Figure size 640x480 with 1 Axes>"
      ]
     },
     "metadata": {},
     "output_type": "display_data"
    }
   ],
   "source": [
    "# chi^k function (C.)\n",
    "def chi(k, K_warmup):\n",
    "    return 0.50 * (2 / (1 + np.exp((k - K_warmup) / 100)))\n",
    "\n",
    "def global_optimizer(func, bounds, K_warmup, K_max, tolerance):\n",
    "    x_star = np.zeros(len(bounds)) # Zero vector\n",
    "    min_func_value = np.inf  # Set to infinity initially for comparison\n",
    "    initial_guesses = [] \n",
    "    for k in range(K_max): # for-loop running for K_max iterations\n",
    "        x_k = np.random.uniform(bounds[:, 0], bounds[:, 1]) # Draw random guess (A.)\n",
    "        if k >= K_warmup: \n",
    "            x_k0 = chi(k, K_warmup) * x_k + (1 - chi(k, K_warmup)) * x_star # I am mystified (D.) \n",
    "        else:\n",
    "            x_k0 = x_k # (B.)\n",
    "        initial_guesses.append(x_k0) # Append x_k0 to initial guesses lsit\n",
    "        result = minimize(func, x_k0, method='BFGS', tol=tolerance) # Optimize (E.)\n",
    "        if k < 10 or result.fun < min_func_value:  # Print for first 10 iterations or if the result is improved\n",
    "            print(f'Iteration {k}: Initial guess is {x_k0} with function value {result.fun}')\n",
    "        if result.fun < min_func_value:  # Keep track of the minimum function value found so far (F.)\n",
    "            min_func_value = result.fun\n",
    "            x_star = result.x\n",
    "        if func(x_star) < tolerance: # Stop The Count! (G.)\n",
    "            break\n",
    "    return x_star, initial_guesses # 4.\n",
    "\n",
    "# Defining bounds, tolerances and iterations\n",
    "bounds = np.array([[-600, 600], [-600, 600]])\n",
    "tolerance = 1e-8\n",
    "K_warmup = 10\n",
    "K_max = 1000\n",
    "\n",
    "# Executing the global optimizer\n",
    "x_star, initial_guesses = global_optimizer(griewank, bounds, K_warmup, K_max, tolerance)\n",
    "\n",
    "# Visualizing how the initial guesses evolve\n",
    "initial_guesses = np.array(initial_guesses)\n",
    "plt.plot(initial_guesses[:, 1], label='x1')\n",
    "plt.plot(initial_guesses[:, 1], label='x2')\n",
    "plt.xlabel('Iteration')\n",
    "plt.ylabel('Initial Guess')\n",
    "plt.legend()\n",
    "plt.show()"
   ]
  },
  {
   "attachments": {},
   "cell_type": "markdown",
   "metadata": {},
   "source": [
    "-----------"
   ]
  },
  {
   "attachments": {},
   "cell_type": "markdown",
   "metadata": {},
   "source": [
    "**Question 2:** Is it a better idea to set $\\underline{K} = 100$? Is the convergence faster?"
   ]
  },
  {
   "cell_type": "code",
   "execution_count": 302,
   "metadata": {},
   "outputs": [
    {
     "name": "stdout",
     "output_type": "stream",
     "text": [
      "Iteration 0: Initial guess is [ 352.44981892 -196.6613792 ] with function value 40.47963577326804\n",
      "Iteration 1: Initial guess is [550.03733732 169.03980596] with function value 81.3077407323784\n",
      "Iteration 2: Initial guess is [ 29.34379117 108.37016458] with function value 2.632673762722763\n",
      "Iteration 3: Initial guess is [564.48440482 253.21320168] with function value 90.19160362851021\n",
      "Iteration 4: Initial guess is [  -7.04221388 -415.37134663] with function value 43.56989214824688\n",
      "Iteration 5: Initial guess is [-226.41542622  133.14005544] with function value 17.221461190611492\n",
      "Iteration 6: Initial guess is [518.19002578 509.95118296] with function value 132.33547346701422\n",
      "Iteration 7: Initial guess is [411.9639127  169.36337793] with function value 50.08900119967395\n",
      "Iteration 8: Initial guess is [424.45362028 173.10094224] with function value 52.44397701883262\n",
      "Iteration 9: Initial guess is [  79.20872044 -564.96223576] with function value 81.05409040619622\n",
      "Iteration 23: Initial guess is [ -9.23654406 -19.78605863] with function value 0.14544231643853467\n",
      "Iteration 208: Initial guess is [  4.31172158 -19.0040942 ] with function value 0.08874262788901788\n",
      "Iteration 220: Initial guess is [-15.35879031  -7.94774255] with function value 0.06658407242079523\n",
      "Iteration 247: Initial guess is [-10.23666176  -0.86413131] with function value 0.03945868819541687\n",
      "Iteration 314: Initial guess is [-6.15155264  8.4867103 ] with function value 0.02958416121206997\n",
      "Iteration 330: Initial guess is [2.99181628 3.94887979] with function value 0.007396040334115117\n",
      "Iteration 474: Initial guess is [2.6859466  0.47927059] with function value 0.0\n"
     ]
    },
    {
     "data": {
      "image/png": "[encoded data removed]",
      "text/plain": [
       "<Figure size 640x480 with 1 Axes>"
      ]
     },
     "metadata": {},
     "output_type": "display_data"
    }
   ],
   "source": [
    "K_warmup2 = 100\n",
    "x_star, initial_guesses = global_optimizer(griewank, bounds, K_warmup2, K_max, tolerance)\n",
    "\n",
    "initial_guesses = np.array(initial_guesses)\n",
    "plt.plot(initial_guesses[:, 1], label='x1')\n",
    "plt.plot(initial_guesses[:, 1], label='x2')\n",
    "plt.xlabel('Iteration')\n",
    "plt.ylabel('Initial Guess')\n",
    "plt.legend()\n",
    "plt.show()"
   ]
  },
  {
   "attachments": {},
   "cell_type": "markdown",
   "metadata": {},
   "source": [
    "The convergence is slower with a higher warm-up of K. The mystical Chi-oracle is doing a good job of narrowing down the convergence."
   ]
  }
 ],
 "metadata": {
  "kernelspec": {
   "display_name": "base",
   "language": "python",
   "name": "python3"
  },
  "language_info": {
   "codemirror_mode": {
    "name": "ipython",
    "version": 3
   },
   "file_extension": ".py",
   "mimetype": "text/x-python",
   "name": "python",
   "nbconvert_exporter": "python",
   "pygments_lexer": "ipython3",
   "version": "3.9.16"
  },
  "orig_nbformat": 4
 },
 "nbformat": 4,
 "nbformat_minor": 2
}
