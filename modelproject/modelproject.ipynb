{
 "cells": [
  {
   "attachments": {},
   "cell_type": "markdown",
   "metadata": {},
   "source": [
    "## Model Project - The Bertrand Model Hackathon"
   ]
  },
  {
   "attachments": {},
   "cell_type": "markdown",
   "metadata": {},
   "source": [
    "Imports and set magics:"
   ]
  },
  {
   "cell_type": "code",
   "execution_count": 104,
   "metadata": {},
   "outputs": [
    {
     "name": "stdout",
     "output_type": "stream",
     "text": [
      "The autoreload extension is already loaded. To reload it, use:\n",
      "  %reload_ext autoreload\n"
     ]
    }
   ],
   "source": [
    "import numpy as np\n",
    "from scipy import optimize\n",
    "import sympy as sm\n",
    "\n",
    "# autoreload modules when code is run\n",
    "%load_ext autoreload\n",
    "%autoreload 2\n",
    "\n",
    "# local modules\n",
    "from modelproject import Bertrand\n",
    "from modelproject import BertrandN"
   ]
  },
  {
   "attachments": {},
   "cell_type": "markdown",
   "metadata": {},
   "source": [
    "### 1 Model description"
   ]
  },
  {
   "attachments": {},
   "cell_type": "markdown",
   "metadata": {},
   "source": [
    "I start by considering a duopolic economy consisting of 2 identical firms $i=1,2$ competing in a market characterized by perfect competition and a homogenous good. \n",
    "\n",
    "The firms set their prices $p_i$ simultaneously, \n",
    "\n",
    "The firms have an identical, constant marginal cost $c$. \n",
    "\n",
    "Demand is a downward sloping function of the prices set and maximum willingness to pay, $D=a-p$, or for a single firm: \n",
    "\n",
    "$$D(p_i ) = a - p_i \\ if\\ p_i < p_j$$\n",
    "$$D(p_i) = (a-p_i)/2 \\ if\\ p_i=p_j$$\n",
    "$$D(p_i) = 0 \\ if\\ p_i > p_j$$ \n",
    "\n",
    "Profit becomes: \n",
    " $$\\pi_i = (p_i-c)D(p_i)$$\n",
    "\n",
    "\n",
    "\n",
    "\n",
    "\n",
    "\n"
   ]
  },
  {
   "attachments": {},
   "cell_type": "markdown",
   "metadata": {},
   "source": [
    "Since firm $i$ can overtake the entire market by undercutting firm $j$, $p_i$ will converge to $c$, given $a>c$ "
   ]
  },
  {
   "attachments": {},
   "cell_type": "markdown",
   "metadata": {},
   "source": [
    "### 2 Numerical solution"
   ]
  },
  {
   "attachments": {},
   "cell_type": "markdown",
   "metadata": {},
   "source": [
    "#### 2.1 Algorithm\n",
    "The model is solved (and markets cleared) by:\n",
    "1. Initialize by defining parameter values of a, c, and the number of simulation iterations\n",
    "2. Define the demand and profit function according to the section above \n",
    "3. Find the Best Response (BR) function of firm $i$, which is the price $p_i$ that maximizes profit given the price of firm $j$ \n",
    "4. Find the BR function of firm $j$\n",
    "5. Find the Nash equilibrium by computing the set of BR-values that solves both 3. and 4., or ensure the convergence of BR values\n",
    "6. Calculate profits and quantity"
   ]
  },
  {
   "attachments": {},
   "cell_type": "markdown",
   "metadata": {},
   "source": [
    "#### 2.2 Testing the solver"
   ]
  },
  {
   "attachments": {},
   "cell_type": "markdown",
   "metadata": {},
   "source": [
    "I initialize with the parameters a = 10 and c = 1, and then a = 10 and c = 11 :"
   ]
  },
  {
   "cell_type": "code",
   "execution_count": 62,
   "metadata": {},
   "outputs": [
    {
     "name": "stdout",
     "output_type": "stream",
     "text": [
      "p1: 1.0\n",
      "p2: 1.0\n",
      "profit1: 0.0\n",
      "profit2: 0.0\n",
      "q1: 4.5\n",
      "q2: 4.5\n"
     ]
    }
   ],
   "source": [
    "Bertrand0  = Bertrand(10,1,1)\n",
    "temp0 = Bertrand0.solve()\n",
    "\n",
    "\n",
    "# Printing the extracted values\n",
    "print('p1:', temp0[0])\n",
    "print('p2:', temp0[1])\n",
    "print('profit1:', temp0[2])\n",
    "print('profit2:', temp0[3])\n",
    "print('q1:', temp0[4])\n",
    "print('q2:', temp0[5])\n"
   ]
  },
  {
   "cell_type": "code",
   "execution_count": 106,
   "metadata": {},
   "outputs": [
    {
     "name": "stdout",
     "output_type": "stream",
     "text": [
      "p1: 11\n",
      "p2: 11\n",
      "profit1: 0.0\n",
      "profit2: 0.0\n",
      "q1: 0\n",
      "q2: 0\n"
     ]
    }
   ],
   "source": [
    "Bertrand1  = Bertrand(10,11,11)\n",
    "temp1 = Bertrand1.solve()\n",
    "\n",
    "\n",
    "# Printing the extracted values\n",
    "print('p1:', temp1[0])\n",
    "print('p2:', temp1[1])\n",
    "print('profit1:', temp1[2])\n",
    "print('profit2:', temp1[3])\n",
    "print('q1:', temp1[4])\n",
    "print('q2:', temp1[5])"
   ]
  },
  {
   "attachments": {},
   "cell_type": "markdown",
   "metadata": {},
   "source": [
    "Let's see if it can converge correctly with more awkward numbers:"
   ]
  },
  {
   "cell_type": "code",
   "execution_count": 107,
   "metadata": {},
   "outputs": [
    {
     "name": "stdout",
     "output_type": "stream",
     "text": [
      "p1: 4.6\n",
      "p2: 4.599992675781255\n",
      "profit1: 0\n",
      "profit2: 25.439939941352645\n",
      "q1: 0\n",
      "q2: 10.600007324218744\n"
     ]
    }
   ],
   "source": [
    "Bertrand1  = Bertrand(15.2,4.6,2.2)\n",
    "temp2 = Bertrand1.solve()\n",
    "\n",
    "\n",
    "# Printing the extracted values\n",
    "print('p1:', temp2[0])\n",
    "print('p2:', temp2[1])\n",
    "print('profit1:', temp2[2])\n",
    "print('profit2:', temp2[3])\n",
    "print('q1:', temp2[4])\n",
    "print('q2:', temp2[5])"
   ]
  },
  {
   "attachments": {},
   "cell_type": "markdown",
   "metadata": {},
   "source": [
    "Firm 2 undercuts by $\\epsilon$ to secure the whole market. Class looks good."
   ]
  },
  {
   "attachments": {},
   "cell_type": "markdown",
   "metadata": {},
   "source": [
    "#### 2.3 Solution as a function of parameters \n",
    "Let's try and see what happens when the firms face different marginal costs and maximum willingness to pay. "
   ]
  },
  {
   "cell_type": "code",
   "execution_count": 100,
   "metadata": {},
   "outputs": [
    {
     "data": {
      "application/vnd.jupyter.widget-view+json": {
       "model_id": "223827407ff24d0d9025771d65761653",
       "version_major": 2,
       "version_minor": 0
      },
      "text/plain": [
       "interactive(children=(FloatSlider(value=5.0, description='a', max=10.0, min=1.0), FloatSlider(value=5.0, descr…"
      ]
     },
     "metadata": {},
     "output_type": "display_data"
    }
   ],
   "source": [
    "import numpy as np\n",
    "import matplotlib.pyplot as plt\n",
    "from ipywidgets import interact\n",
    "\n",
    "def interactive_plot(a, c1, c2):\n",
    "    bertrand = Bertrand(a, c1, c2)\n",
    "    p1, p2, profit1, profit2, d1, d2 = bertrand.solve()\n",
    "    \n",
    "    total_price = min(p1, p2)\n",
    "    total_quantity = a - total_price\n",
    "    \n",
    "    aggregate_prices = np.linspace(0, a, 100)\n",
    "    aggregate_quantities = a - aggregate_prices\n",
    "\n",
    "    plt.figure(figsize=(8, 6))\n",
    "    plt.plot(aggregate_quantities, aggregate_prices, label='Aggregate Q as function of P')\n",
    "    plt.scatter(total_quantity, total_price, color='red', label='Equilibrium')\n",
    "    plt.text(total_quantity, total_price, f'({total_quantity:.2f}, {total_price:.2f})', ha='left', va='bottom')\n",
    "    \n",
    "    plt.xlabel('Aggregate Quantity')\n",
    "    plt.ylabel('Aggregate Price')\n",
    "    plt.title('Aggregate Price vs Quantity')\n",
    "    plt.legend()\n",
    "    \n",
    "    # Annotate each firm's profit, price, and quantity\n",
    "    plt.annotate(f'Firm 1:\\nProfit = {profit1:.2f}\\nPrice = {p1:.2f}\\nQuantity = {d1:.2f}',\n",
    "                 xy=(1.05, 0.95), xycoords='axes fraction', fontsize=10, ha='left', va='top')\n",
    "    plt.annotate(f'Firm 2:\\nProfit = {profit2:.2f}\\nPrice = {p2:.2f}\\nQuantity = {d2:.2f}',\n",
    "                 xy=(1.05, 0.65), xycoords='axes fraction', fontsize=10, ha='left', va='bottom')\n",
    "    \n",
    "    plt.show()\n",
    "\n",
    "interact(interactive_plot, a=(1, 10, 0.1), c1=(0, 10, 0.1), c2=(0, 10, 0.1));"
   ]
  },
  {
   "attachments": {},
   "cell_type": "markdown",
   "metadata": {},
   "source": [
    "### 3 Expansion to multiple firms"
   ]
  },
  {
   "attachments": {},
   "cell_type": "markdown",
   "metadata": {},
   "source": [
    "We have $n$ ($i=1,2,...n$) firms competing in a market characterized by perfect competition and a homogenous good,\n",
    "\n",
    "firms set their prices $p_1, p_2, ..., p_n$ simultaneously,\n",
    "\n",
    "firms face identical marginal costs $c_1 = c_2 =...=c_n$,\n",
    "\n",
    "demand is a downwards sloping function of price and MWTP; \n",
    "\n",
    "$$D(p_i) = a - p_i \\ if \\ p_i < p_1, p_2,...,p_n$$ \n",
    "$$D(p_i) = (a- \\frac{p_i}{k}) \\ if\\ p_i = p_j, p_l,...,p_k$$\n",
    "$$D(p_i) = 0 \\ if\\ p_i > p_j$$"
   ]
  },
  {
   "attachments": {},
   "cell_type": "markdown",
   "metadata": {},
   "source": [
    "#### 3.1 Numerical solution"
   ]
  },
  {
   "attachments": {},
   "cell_type": "markdown",
   "metadata": {},
   "source": [
    "We start out by testing with +1 firms:"
   ]
  },
  {
   "cell_type": "code",
   "execution_count": 108,
   "metadata": {},
   "outputs": [
    {
     "name": "stdout",
     "output_type": "stream",
     "text": [
      "Prices: [1, 1, 1]\n",
      "Profits: [0.0, 0.0, 0.0]\n",
      "Demands: [3.0, 3.0, 3.0]\n"
     ]
    }
   ],
   "source": [
    "a = 10\n",
    "costs = [1, 1, 1]  #marginal cost vector \n",
    "bertrand_model = BertrandN(a, costs)\n",
    "prices, profits, demands = bertrand_model.solve()\n",
    "\n",
    "print(\"Prices:\", prices)\n",
    "print(\"Profits:\", profits)\n",
    "print(\"Demands:\", demands)"
   ]
  },
  {
   "cell_type": "code",
   "execution_count": 111,
   "metadata": {},
   "outputs": [
    {
     "name": "stdout",
     "output_type": "stream",
     "text": [
      "Prices: [1.9999023437500032, 2.0, 3.0]\n",
      "Profits: [2.9998046779632634, 0.0, 0.0]\n",
      "Demands: [3.000097656249997, 0, 0]\n"
     ]
    }
   ],
   "source": [
    "a1 = 5\n",
    "costs1 = [1, 2, 3]  \n",
    "bertrand_model1 = BertrandN(a1, costs)\n",
    "prices1, profits1, demands1 = bertrand_model1.solve()\n",
    "\n",
    "print(\"Prices:\", prices1)\n",
    "print(\"Profits:\", profits1)\n",
    "print(\"Demands:\", demands1)"
   ]
  },
  {
   "attachments": {},
   "cell_type": "markdown",
   "metadata": {},
   "source": [
    "Looks good so far. Let's try to up the ante:"
   ]
  },
  {
   "cell_type": "code",
   "execution_count": 130,
   "metadata": {},
   "outputs": [
    {
     "name": "stdout",
     "output_type": "stream",
     "text": [
      "Prices: [4.831576648880567, 1.931624070982823, 8.526302729873809, 5.5552239315225975, 4.204381398755786, 6.7886061630233865, 6.004526607344169, 7.794288417709207, 5.445282764522666, 2.3356269670485172, 1.193737393140753, 8.542986618772776, 5.360122207182864, 3.6995054110995347, 9.751109307857037, 3.3968963876926987, 2.77237414595242, 2.6511843579642136, 2.944304413867709, 5.421716142334781, 3.3181780176051747, 8.558612035941625, 7.817142524548094, 5.351477224530667, 1.9064386046212616, 2.279940818680644, 7.604260264736011, 7.742524120931221, 9.24404505928381, 7.806627474942223, 4.15728425245786, 2.7678899450051744, 6.092620170751931, 4.055552893290899, 6.983592116984831, 1.1758064942373703, 3.56265403048713, 7.266220793811998, 2.9447855882890472, 7.412475005291934, 7.093967880136261, 9.83155926886189, 8.064380916372482, 5.406129803762436, 9.01309217994917, 7.192590598276314, 9.412160197605843, 4.801813465070669, 1.4846163970669575, 4.965812910629969, 4.942422565730166, 1.7072944771436283, 7.639270297193905, 6.536883839997246, 1.1758070578552289, 9.720811345000055, 4.730489591609402, 8.74319707292771, 6.4660887562931375, 1.7748213874239778, 7.853938407861937, 9.128710925468662, 4.827946344211924, 9.084332213603536, 5.606515862597515, 9.139964977500485, 3.3904413623002405, 8.569321575897142, 6.012101310192628, 1.6627600098523103, 9.455424399002133, 5.083830412408691, 3.2997478179276714, 9.765553946120987, 9.278110769324432, 6.10943415602275, 7.116676037209743, 4.185947568011917, 1.2067167356645274, 2.8817443484477585, 4.4583857049681725, 4.456504100940068, 3.4912317430765736, 4.214106467183965, 4.795035691096739, 9.573927452479504, 2.2174708416082214, 1.8039181076070294, 2.4771459464506815, 4.515031885968508, 6.440017110663874, 9.746324208349437, 6.803117751951577, 5.221201364521092, 5.4814158603833345, 5.4329291178332015, 8.443096906404405, 3.6985951940283694, 1.9372350208528095, 8.870047183537658]\n",
      "Profits: [0.0, 0.0, 0.0, 0.0, 0.0, 0.0, 0.0, 0.0, 0.0, 0.0, 0.0, 0.0, 0.0, 0.0, 0.0, 0.0, 0.0, 0.0, 0.0, 0.0, 0.0, 0.0, 0.0, 0.0, 0.0, 0.0, 0.0, 0.0, 0.0, 0.0, 0.0, 0.0, 0.0, 0.0, 0.0, 0.16723091072648, 0.0, 0.0, 0.0, 0.0, 0.0, 0.0, 0.0, 0.0, 0.0, 0.0, 0.0, 0.0, 0.0, 0.0, 0.0, 0.0, 0.0, 0.0, 0.0, 0.0, 0.0, 0.0, 0.0, 0.0, 0.0, 0.0, 0.0, 0.0, 0.0, 0.0, 0.0, 0.0, 0.0, 0.0, 0.0, 0.0, 0.0, 0.0, 0.0, 0.0, 0.0, 0.0, 0.0, 0.0, 0.0, 0.0, 0.0, 0.0, 0.0, 0.0, 0.0, 0.0, 0.0, 0.0, 0.0, 0.0, 0.0, 0.0, 0.0, 0.0, 0.0, 0.0, 0.0, 0.0]\n",
      "Demands: [0, 0, 0, 0, 0, 0, 0, 0, 0, 0, 0, 0, 0, 0, 0, 0, 0, 0, 0, 0, 0, 0, 0, 0, 0, 0, 0, 0, 0, 0, 0, 0, 0, 0, 0, 8.82419350576263, 0, 0, 0, 0, 0, 0, 0, 0, 0, 0, 0, 0, 0, 0, 0, 0, 0, 0, 0, 0, 0, 0, 0, 0, 0, 0, 0, 0, 0, 0, 0, 0, 0, 0, 0, 0, 0, 0, 0, 0, 0, 0, 0, 0, 0, 0, 0, 0, 0, 0, 0, 0, 0, 0, 0, 0, 0, 0, 0, 0, 0, 0, 0, 0]\n"
     ]
    }
   ],
   "source": [
    "a2 = 10 \n",
    "c_min = 1  # minimum cost\n",
    "c_max = 10  # maximum cost\n",
    "\n",
    "costs2 = np.random.uniform(c_min, c_max, 100) #100 firms with random marginal costs in da house\n",
    "bertrand_model2 = BertrandN(a2, costs2)\n",
    "prices2, profits2, demands2 = bertrand_model2.solve()\n",
    "\n",
    "print(\"Prices:\", prices2)\n",
    "print(\"Profits:\", profits2)\n",
    "print(\"Demands:\", demands2)"
   ]
  },
  {
   "attachments": {},
   "cell_type": "markdown",
   "metadata": {},
   "source": [
    "This is a bit much, luckily we have a new function that finds the market clearing price:"
   ]
  },
  {
   "cell_type": "code",
   "execution_count": 134,
   "metadata": {},
   "outputs": [
    {
     "name": "stdout",
     "output_type": "stream",
     "text": [
      "Pricemin: 1.1758064942373703\n",
      "Profit: 0.16723091072648\n",
      "Demand: 8.82419350576263\n"
     ]
    }
   ],
   "source": [
    "\n",
    "prices3, profits3, demands3 = bertrand_model2.solvemin()\n",
    "\n",
    "print(\"Pricemin:\", prices3)\n",
    "print(\"Profit:\", profits3)\n",
    "print(\"Demand:\", demands3)"
   ]
  },
  {
   "attachments": {},
   "cell_type": "markdown",
   "metadata": {},
   "source": [
    "### 4 Conclusion"
   ]
  },
  {
   "attachments": {},
   "cell_type": "markdown",
   "metadata": {},
   "source": [
    "Add concise conclusion. "
   ]
  }
 ],
 "metadata": {
  "kernelspec": {
   "display_name": "base",
   "language": "python",
   "name": "python3"
  },
  "language_info": {
   "codemirror_mode": {
    "name": "ipython",
    "version": 3
   },
   "file_extension": ".py",
   "mimetype": "text/x-python",
   "name": "python",
   "nbconvert_exporter": "python",
   "pygments_lexer": "ipython3",
   "version": "3.9.16"
  },
  "toc-autonumbering": true,
  "vscode": {
   "interpreter": {
    "hash": "47ef90cdf3004d3f859f1fb202523c65c07ba7c22eefd261b181f4744e2d0403"
   }
  }
 },
 "nbformat": 4,
 "nbformat_minor": 4
}
